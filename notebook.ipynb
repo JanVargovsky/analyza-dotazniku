{
 "cells": [
  {
   "cell_type": "code",
   "execution_count": 93,
   "metadata": {},
   "outputs": [],
   "source": [
    "import pandas as pd\n",
    "from scipy.stats import chisquare, ttest_ind, shapiro\n",
    "import matplotlib.pyplot as plt\n",
    "import statsmodels.api as sm\n",
    "import numpy as np"
   ]
  },
  {
   "cell_type": "code",
   "execution_count": 76,
   "metadata": {},
   "outputs": [],
   "source": [
    "plt.style.use('ggplot')"
   ]
  },
  {
   "cell_type": "code",
   "execution_count": 5,
   "metadata": {},
   "outputs": [
    {
     "data": {
      "text/html": [
       "<div>\n",
       "<style scoped>\n",
       "    .dataframe tbody tr th:only-of-type {\n",
       "        vertical-align: middle;\n",
       "    }\n",
       "\n",
       "    .dataframe tbody tr th {\n",
       "        vertical-align: top;\n",
       "    }\n",
       "\n",
       "    .dataframe thead th {\n",
       "        text-align: right;\n",
       "    }\n",
       "</style>\n",
       "<table border=\"1\" class=\"dataframe\">\n",
       "  <thead>\n",
       "    <tr style=\"text-align: right;\">\n",
       "      <th></th>\n",
       "      <th>povolani</th>\n",
       "      <th>Dotatník</th>\n",
       "      <th>č. 1</th>\n",
       "      <th>č. 2</th>\n",
       "      <th>č. 3</th>\n",
       "      <th>č. 4</th>\n",
       "      <th>č. 5</th>\n",
       "      <th>č. 5a - předmět</th>\n",
       "      <th>č. 6/A</th>\n",
       "      <th>č. 6/B</th>\n",
       "      <th>...</th>\n",
       "      <th>č. 32/1</th>\n",
       "      <th>č. 32/2</th>\n",
       "      <th>č. 32/3</th>\n",
       "      <th>č. 32/4</th>\n",
       "      <th>č. 32/5</th>\n",
       "      <th>BODY</th>\n",
       "      <th>Pohlaví</th>\n",
       "      <th>věk</th>\n",
       "      <th>ročník</th>\n",
       "      <th>Unnamed: 54</th>\n",
       "    </tr>\n",
       "  </thead>\n",
       "  <tbody>\n",
       "    <tr>\n",
       "      <td>0</td>\n",
       "      <td>Sociální činnost</td>\n",
       "      <td>1</td>\n",
       "      <td>a</td>\n",
       "      <td>a</td>\n",
       "      <td>-</td>\n",
       "      <td>Dospívání</td>\n",
       "      <td>a</td>\n",
       "      <td>př</td>\n",
       "      <td>X</td>\n",
       "      <td>NaN</td>\n",
       "      <td>...</td>\n",
       "      <td>1</td>\n",
       "      <td>1</td>\n",
       "      <td>0</td>\n",
       "      <td>1</td>\n",
       "      <td>0</td>\n",
       "      <td>33</td>\n",
       "      <td>M</td>\n",
       "      <td>16</td>\n",
       "      <td>1</td>\n",
       "      <td>NaN</td>\n",
       "    </tr>\n",
       "    <tr>\n",
       "      <td>1</td>\n",
       "      <td>Sociální činnost</td>\n",
       "      <td>2</td>\n",
       "      <td>a</td>\n",
       "      <td>a</td>\n",
       "      <td>-</td>\n",
       "      <td>těhotenství</td>\n",
       "      <td>a</td>\n",
       "      <td>př</td>\n",
       "      <td>NaN</td>\n",
       "      <td>X</td>\n",
       "      <td>...</td>\n",
       "      <td>1</td>\n",
       "      <td>0</td>\n",
       "      <td>0</td>\n",
       "      <td>1</td>\n",
       "      <td>0</td>\n",
       "      <td>22</td>\n",
       "      <td>Ž</td>\n",
       "      <td>16</td>\n",
       "      <td>1</td>\n",
       "      <td>NaN</td>\n",
       "    </tr>\n",
       "    <tr>\n",
       "      <td>2</td>\n",
       "      <td>Sociální činnost</td>\n",
       "      <td>3</td>\n",
       "      <td>a</td>\n",
       "      <td>n</td>\n",
       "      <td>Nezájem</td>\n",
       "      <td>-</td>\n",
       "      <td>a</td>\n",
       "      <td>vkz</td>\n",
       "      <td>NaN</td>\n",
       "      <td>X</td>\n",
       "      <td>...</td>\n",
       "      <td>1</td>\n",
       "      <td>1</td>\n",
       "      <td>1</td>\n",
       "      <td>0</td>\n",
       "      <td>0</td>\n",
       "      <td>39</td>\n",
       "      <td>M</td>\n",
       "      <td>16</td>\n",
       "      <td>1</td>\n",
       "      <td>NaN</td>\n",
       "    </tr>\n",
       "    <tr>\n",
       "      <td>3</td>\n",
       "      <td>Sociální činnost</td>\n",
       "      <td>4</td>\n",
       "      <td>a</td>\n",
       "      <td>n</td>\n",
       "      <td>-</td>\n",
       "      <td>-</td>\n",
       "      <td>a</td>\n",
       "      <td>-</td>\n",
       "      <td>X</td>\n",
       "      <td>NaN</td>\n",
       "      <td>...</td>\n",
       "      <td>0</td>\n",
       "      <td>1</td>\n",
       "      <td>1</td>\n",
       "      <td>1</td>\n",
       "      <td>0</td>\n",
       "      <td>29</td>\n",
       "      <td>Ž</td>\n",
       "      <td>17</td>\n",
       "      <td>1</td>\n",
       "      <td>NaN</td>\n",
       "    </tr>\n",
       "    <tr>\n",
       "      <td>4</td>\n",
       "      <td>Sociální činnost</td>\n",
       "      <td>5</td>\n",
       "      <td>a</td>\n",
       "      <td>a</td>\n",
       "      <td>-</td>\n",
       "      <td>Sex</td>\n",
       "      <td>a</td>\n",
       "      <td>-</td>\n",
       "      <td>NaN</td>\n",
       "      <td>X</td>\n",
       "      <td>...</td>\n",
       "      <td>1</td>\n",
       "      <td>1</td>\n",
       "      <td>0</td>\n",
       "      <td>1</td>\n",
       "      <td>1</td>\n",
       "      <td>25</td>\n",
       "      <td>Ž</td>\n",
       "      <td>16</td>\n",
       "      <td>1</td>\n",
       "      <td>NaN</td>\n",
       "    </tr>\n",
       "  </tbody>\n",
       "</table>\n",
       "<p>5 rows × 55 columns</p>\n",
       "</div>"
      ],
      "text/plain": [
       "           povolani  Dotatník č. 1 č. 2     č. 3         č. 4 č. 5  \\\n",
       "0  Sociální činnost         1    a    a        -    Dospívání    a   \n",
       "1  Sociální činnost         2    a    a        -  těhotenství    a   \n",
       "2  Sociální činnost         3    a    n  Nezájem            -    a   \n",
       "3  Sociální činnost         4    a    n        -            -    a   \n",
       "4  Sociální činnost         5    a    a        -          Sex    a   \n",
       "\n",
       "  č. 5a - předmět č. 6/A č. 6/B  ... č. 32/1 č. 32/2 č. 32/3 č. 32/4 č. 32/5  \\\n",
       "0              př      X    NaN  ...       1       1       0       1       0   \n",
       "1              př    NaN      X  ...       1       0       0       1       0   \n",
       "2             vkz    NaN      X  ...       1       1       1       0       0   \n",
       "3               -      X    NaN  ...       0       1       1       1       0   \n",
       "4               -    NaN      X  ...       1       1       0       1       1   \n",
       "\n",
       "  BODY  Pohlaví věk  ročník  Unnamed: 54  \n",
       "0   33        M  16       1          NaN  \n",
       "1   22        Ž  16       1          NaN  \n",
       "2   39        M  16       1          NaN  \n",
       "3   29        Ž  17       1          NaN  \n",
       "4   25        Ž  16       1          NaN  \n",
       "\n",
       "[5 rows x 55 columns]"
      ]
     },
     "execution_count": 5,
     "metadata": {},
     "output_type": "execute_result"
    }
   ],
   "source": [
    "data = pd.read_excel('Výsledky dotazníků.xlsx', sheet_name='body')\n",
    "data.head()"
   ]
  },
  {
   "cell_type": "code",
   "execution_count": 6,
   "metadata": {},
   "outputs": [],
   "source": [
    "muzi = data[data['Pohlaví'] == 'M']\n",
    "zeny = data[data['Pohlaví'] == 'Ž']\n",
    "\n",
    "muzi_body = muzi['BODY']\n",
    "zeny_body = zeny['BODY']"
   ]
  },
  {
   "cell_type": "code",
   "execution_count": 7,
   "metadata": {},
   "outputs": [],
   "source": [
    "# 1. chceme zjistit jestli zalezi na pohlavi podle poctu bodu - body na pohlavi\n",
    "# 2. existuje zavislost mezi sebehodnocenim znalosti (ot. c. 9) a body\n",
    "# 3. existuje zavislost mezi obor studia (povolani) a body"
   ]
  },
  {
   "cell_type": "code",
   "execution_count": 77,
   "metadata": {},
   "outputs": [
    {
     "data": {
      "image/png": "[encoded data removed]",
      "text/plain": [
       "<Figure size 432x288 with 1 Axes>"
      ]
     },
     "metadata": {},
     "output_type": "display_data"
    }
   ],
   "source": [
    "muzi_body.hist()\n",
    "plt.show()"
   ]
  },
  {
   "cell_type": "code",
   "execution_count": 78,
   "metadata": {},
   "outputs": [
    {
     "data": {
      "image/png": "[encoded data removed]",
      "text/plain": [
       "<Figure size 432x288 with 1 Axes>"
      ]
     },
     "metadata": {},
     "output_type": "display_data"
    }
   ],
   "source": [
    "zeny_body.hist()\n",
    "plt.show()"
   ]
  },
  {
   "cell_type": "code",
   "execution_count": 79,
   "metadata": {},
   "outputs": [
    {
     "data": {
      "image/png": "[encoded data removed]",
      "text/plain": [
       "<Figure size 432x288 with 1 Axes>"
      ]
     },
     "metadata": {},
     "output_type": "display_data"
    }
   ],
   "source": [
    "plt.boxplot([muzi_body, zeny_body])\n",
    "plt.xticks([1, 2],['muzi', 'zeny'])\n",
    "plt.ylabel('body')\n",
    "plt.show()"
   ]
  },
  {
   "cell_type": "code",
   "execution_count": 30,
   "metadata": {},
   "outputs": [
    {
     "data": {
      "text/plain": [
       "((0.9532239437103271, 0.031979963183403015),\n",
       " (0.9579218626022339, 0.0001973911712411791))"
      ]
     },
     "execution_count": 30,
     "metadata": {},
     "output_type": "execute_result"
    }
   ],
   "source": [
    "shapiro(muzi_body), shapiro(zeny_body)"
   ]
  },
  {
   "cell_type": "code",
   "execution_count": 102,
   "metadata": {},
   "outputs": [
    {
     "data": {
      "text/plain": [
       "Ttest_indResult(statistic=-1.6444617755279134, pvalue=0.10377226662965239)"
      ]
     },
     "execution_count": 102,
     "metadata": {},
     "output_type": "execute_result"
    }
   ],
   "source": [
    "ttest_ind(muzi_body, zeny_body, equal_var=False)"
   ]
  },
  {
   "cell_type": "code",
   "execution_count": 57,
   "metadata": {},
   "outputs": [
    {
     "data": {
      "text/plain": [
       "count    55.000000\n",
       "mean     31.600000\n",
       "std      11.869038\n",
       "min       9.000000\n",
       "25%      23.500000\n",
       "50%      33.000000\n",
       "75%      42.000000\n",
       "max      52.000000\n",
       "Name: BODY, dtype: float64"
      ]
     },
     "metadata": {},
     "output_type": "display_data"
    },
    {
     "data": {
      "text/plain": [
       "count    146.000000\n",
       "mean      34.568493\n",
       "std       10.089194\n",
       "min       10.000000\n",
       "25%       28.000000\n",
       "50%       36.000000\n",
       "75%       43.000000\n",
       "max       52.000000\n",
       "Name: BODY, dtype: float64"
      ]
     },
     "metadata": {},
     "output_type": "display_data"
    }
   ],
   "source": [
    "display(muzi_body.describe(), \n",
    "        zeny_body.describe())"
   ]
  },
  {
   "cell_type": "code",
   "execution_count": 84,
   "metadata": {},
   "outputs": [
    {
     "data": {
      "text/html": [
       "<table class=\"simpletable\">\n",
       "<caption>OLS Regression Results</caption>\n",
       "<tr>\n",
       "  <th>Dep. Variable:</th>          <td>BODY</td>       <th>  R-squared (uncentered):</th>      <td>   0.693</td>\n",
       "</tr>\n",
       "<tr>\n",
       "  <th>Model:</th>                   <td>OLS</td>       <th>  Adj. R-squared (uncentered):</th> <td>   0.691</td>\n",
       "</tr>\n",
       "<tr>\n",
       "  <th>Method:</th>             <td>Least Squares</td>  <th>  F-statistic:       </th>          <td>   451.5</td>\n",
       "</tr>\n",
       "<tr>\n",
       "  <th>Date:</th>             <td>Sat, 19 Oct 2019</td> <th>  Prob (F-statistic):</th>          <td>3.49e-53</td>\n",
       "</tr>\n",
       "<tr>\n",
       "  <th>Time:</th>                 <td>15:27:36</td>     <th>  Log-Likelihood:    </th>          <td> -883.38</td>\n",
       "</tr>\n",
       "<tr>\n",
       "  <th>No. Observations:</th>      <td>   201</td>      <th>  AIC:               </th>          <td>   1769.</td>\n",
       "</tr>\n",
       "<tr>\n",
       "  <th>Df Residuals:</th>          <td>   200</td>      <th>  BIC:               </th>          <td>   1772.</td>\n",
       "</tr>\n",
       "<tr>\n",
       "  <th>Df Model:</th>              <td>     1</td>      <th>                     </th>              <td> </td>   \n",
       "</tr>\n",
       "<tr>\n",
       "  <th>Covariance Type:</th>      <td>nonrobust</td>    <th>                     </th>              <td> </td>   \n",
       "</tr>\n",
       "</table>\n",
       "<table class=\"simpletable\">\n",
       "<tr>\n",
       "   <td></td>     <th>coef</th>     <th>std err</th>      <th>t</th>      <th>P>|t|</th>  <th>[0.025</th>    <th>0.975]</th>  \n",
       "</tr>\n",
       "<tr>\n",
       "  <th>x1</th> <td>   34.5685</td> <td>    1.627</td> <td>   21.248</td> <td> 0.000</td> <td>   31.360</td> <td>   37.777</td>\n",
       "</tr>\n",
       "</table>\n",
       "<table class=\"simpletable\">\n",
       "<tr>\n",
       "  <th>Omnibus:</th>       <td>11.075</td> <th>  Durbin-Watson:     </th> <td>   0.949</td>\n",
       "</tr>\n",
       "<tr>\n",
       "  <th>Prob(Omnibus):</th> <td> 0.004</td> <th>  Jarque-Bera (JB):  </th> <td>  11.793</td>\n",
       "</tr>\n",
       "<tr>\n",
       "  <th>Skew:</th>          <td> 0.573</td> <th>  Prob(JB):          </th> <td> 0.00275</td>\n",
       "</tr>\n",
       "<tr>\n",
       "  <th>Kurtosis:</th>      <td> 2.689</td> <th>  Cond. No.          </th> <td>    1.00</td>\n",
       "</tr>\n",
       "</table><br/><br/>Warnings:<br/>[1] Standard Errors assume that the covariance matrix of the errors is correctly specified."
      ],
      "text/plain": [
       "<class 'statsmodels.iolib.summary.Summary'>\n",
       "\"\"\"\n",
       "                                 OLS Regression Results                                \n",
       "=======================================================================================\n",
       "Dep. Variable:                   BODY   R-squared (uncentered):                   0.693\n",
       "Model:                            OLS   Adj. R-squared (uncentered):              0.691\n",
       "Method:                 Least Squares   F-statistic:                              451.5\n",
       "Date:                Sat, 19 Oct 2019   Prob (F-statistic):                    3.49e-53\n",
       "Time:                        15:27:36   Log-Likelihood:                         -883.38\n",
       "No. Observations:                 201   AIC:                                      1769.\n",
       "Df Residuals:                     200   BIC:                                      1772.\n",
       "Df Model:                           1                                                  \n",
       "Covariance Type:            nonrobust                                                  \n",
       "==============================================================================\n",
       "                 coef    std err          t      P>|t|      [0.025      0.975]\n",
       "------------------------------------------------------------------------------\n",
       "x1            34.5685      1.627     21.248      0.000      31.360      37.777\n",
       "==============================================================================\n",
       "Omnibus:                       11.075   Durbin-Watson:                   0.949\n",
       "Prob(Omnibus):                  0.004   Jarque-Bera (JB):               11.793\n",
       "Skew:                           0.573   Prob(JB):                      0.00275\n",
       "Kurtosis:                       2.689   Cond. No.                         1.00\n",
       "==============================================================================\n",
       "\n",
       "Warnings:\n",
       "[1] Standard Errors assume that the covariance matrix of the errors is correctly specified.\n",
       "\"\"\""
      ]
     },
     "execution_count": 84,
     "metadata": {},
     "output_type": "execute_result"
    }
   ],
   "source": [
    "model = sm.OLS(data['BODY'], data['Pohlaví'].factorize()[0])\n",
    "model = model.fit()\n",
    "model.summary()"
   ]
  }
 ],
 "metadata": {
  "kernelspec": {
   "display_name": "Python 3",
   "language": "python",
   "name": "python3"
  },
  "language_info": {
   "codemirror_mode": {
    "name": "ipython",
    "version": 3
   },
   "file_extension": ".py",
   "mimetype": "text/x-python",
   "name": "python",
   "nbconvert_exporter": "python",
   "pygments_lexer": "ipython3",
   "version": "3.7.4"
  }
 },
 "nbformat": 4,
 "nbformat_minor": 4
}
