{
 "cells": [
  {
   "cell_type": "code",
   "execution_count": 1,
   "metadata": {},
   "outputs": [],
   "source": [
    "import pandas as pd\n",
    "from scipy.stats import chisquare, ttest_ind, shapiro\n",
    "import matplotlib.pyplot as plt\n",
    "import statsmodels.api as sm\n",
    "import numpy as np"
   ]
  },
  {
   "cell_type": "code",
   "execution_count": 3,
   "metadata": {},
   "outputs": [],
   "source": [
    "plt.style.use('ggplot')"
   ]
  },
  {
   "cell_type": "code",
   "execution_count": 4,
   "metadata": {},
   "outputs": [
    {
     "data": {
      "text/html": [
       "<div>\n",
       "<style scoped>\n",
       "    .dataframe tbody tr th:only-of-type {\n",
       "        vertical-align: middle;\n",
       "    }\n",
       "\n",
       "    .dataframe tbody tr th {\n",
       "        vertical-align: top;\n",
       "    }\n",
       "\n",
       "    .dataframe thead th {\n",
       "        text-align: right;\n",
       "    }\n",
       "</style>\n",
       "<table border=\"1\" class=\"dataframe\">\n",
       "  <thead>\n",
       "    <tr style=\"text-align: right;\">\n",
       "      <th></th>\n",
       "      <th>povolani</th>\n",
       "      <th>Dotatník</th>\n",
       "      <th>č. 1</th>\n",
       "      <th>č. 2</th>\n",
       "      <th>č. 3</th>\n",
       "      <th>č. 4</th>\n",
       "      <th>č. 5</th>\n",
       "      <th>č. 5a - předmět</th>\n",
       "      <th>č. 6/A</th>\n",
       "      <th>č. 6/B</th>\n",
       "      <th>...</th>\n",
       "      <th>č. 32/1</th>\n",
       "      <th>č. 32/2</th>\n",
       "      <th>č. 32/3</th>\n",
       "      <th>č. 32/4</th>\n",
       "      <th>č. 32/5</th>\n",
       "      <th>BODY</th>\n",
       "      <th>Pohlaví</th>\n",
       "      <th>věk</th>\n",
       "      <th>ročník</th>\n",
       "      <th>Unnamed: 54</th>\n",
       "    </tr>\n",
       "  </thead>\n",
       "  <tbody>\n",
       "    <tr>\n",
       "      <td>0</td>\n",
       "      <td>Sociální činnost</td>\n",
       "      <td>1</td>\n",
       "      <td>a</td>\n",
       "      <td>a</td>\n",
       "      <td>-</td>\n",
       "      <td>Dospívání</td>\n",
       "      <td>a</td>\n",
       "      <td>př</td>\n",
       "      <td>X</td>\n",
       "      <td>NaN</td>\n",
       "      <td>...</td>\n",
       "      <td>1</td>\n",
       "      <td>1</td>\n",
       "      <td>0</td>\n",
       "      <td>1</td>\n",
       "      <td>0</td>\n",
       "      <td>33</td>\n",
       "      <td>M</td>\n",
       "      <td>16</td>\n",
       "      <td>1</td>\n",
       "      <td>NaN</td>\n",
       "    </tr>\n",
       "    <tr>\n",
       "      <td>1</td>\n",
       "      <td>Sociální činnost</td>\n",
       "      <td>2</td>\n",
       "      <td>a</td>\n",
       "      <td>a</td>\n",
       "      <td>-</td>\n",
       "      <td>těhotenství</td>\n",
       "      <td>a</td>\n",
       "      <td>př</td>\n",
       "      <td>NaN</td>\n",
       "      <td>X</td>\n",
       "      <td>...</td>\n",
       "      <td>1</td>\n",
       "      <td>0</td>\n",
       "      <td>0</td>\n",
       "      <td>1</td>\n",
       "      <td>0</td>\n",
       "      <td>22</td>\n",
       "      <td>Ž</td>\n",
       "      <td>16</td>\n",
       "      <td>1</td>\n",
       "      <td>NaN</td>\n",
       "    </tr>\n",
       "    <tr>\n",
       "      <td>2</td>\n",
       "      <td>Sociální činnost</td>\n",
       "      <td>3</td>\n",
       "      <td>a</td>\n",
       "      <td>n</td>\n",
       "      <td>Nezájem</td>\n",
       "      <td>-</td>\n",
       "      <td>a</td>\n",
       "      <td>vkz</td>\n",
       "      <td>NaN</td>\n",
       "      <td>X</td>\n",
       "      <td>...</td>\n",
       "      <td>1</td>\n",
       "      <td>1</td>\n",
       "      <td>1</td>\n",
       "      <td>0</td>\n",
       "      <td>0</td>\n",
       "      <td>39</td>\n",
       "      <td>M</td>\n",
       "      <td>16</td>\n",
       "      <td>1</td>\n",
       "      <td>NaN</td>\n",
       "    </tr>\n",
       "    <tr>\n",
       "      <td>3</td>\n",
       "      <td>Sociální činnost</td>\n",
       "      <td>4</td>\n",
       "      <td>a</td>\n",
       "      <td>n</td>\n",
       "      <td>-</td>\n",
       "      <td>-</td>\n",
       "      <td>a</td>\n",
       "      <td>-</td>\n",
       "      <td>X</td>\n",
       "      <td>NaN</td>\n",
       "      <td>...</td>\n",
       "      <td>0</td>\n",
       "      <td>1</td>\n",
       "      <td>1</td>\n",
       "      <td>1</td>\n",
       "      <td>0</td>\n",
       "      <td>29</td>\n",
       "      <td>Ž</td>\n",
       "      <td>17</td>\n",
       "      <td>1</td>\n",
       "      <td>NaN</td>\n",
       "    </tr>\n",
       "    <tr>\n",
       "      <td>4</td>\n",
       "      <td>Sociální činnost</td>\n",
       "      <td>5</td>\n",
       "      <td>a</td>\n",
       "      <td>a</td>\n",
       "      <td>-</td>\n",
       "      <td>Sex</td>\n",
       "      <td>a</td>\n",
       "      <td>-</td>\n",
       "      <td>NaN</td>\n",
       "      <td>X</td>\n",
       "      <td>...</td>\n",
       "      <td>1</td>\n",
       "      <td>1</td>\n",
       "      <td>0</td>\n",
       "      <td>1</td>\n",
       "      <td>1</td>\n",
       "      <td>25</td>\n",
       "      <td>Ž</td>\n",
       "      <td>16</td>\n",
       "      <td>1</td>\n",
       "      <td>NaN</td>\n",
       "    </tr>\n",
       "  </tbody>\n",
       "</table>\n",
       "<p>5 rows × 55 columns</p>\n",
       "</div>"
      ],
      "text/plain": [
       "           povolani  Dotatník č. 1 č. 2     č. 3         č. 4 č. 5  \\\n",
       "0  Sociální činnost         1    a    a        -    Dospívání    a   \n",
       "1  Sociální činnost         2    a    a        -  těhotenství    a   \n",
       "2  Sociální činnost         3    a    n  Nezájem            -    a   \n",
       "3  Sociální činnost         4    a    n        -            -    a   \n",
       "4  Sociální činnost         5    a    a        -          Sex    a   \n",
       "\n",
       "  č. 5a - předmět č. 6/A č. 6/B  ... č. 32/1 č. 32/2 č. 32/3 č. 32/4 č. 32/5  \\\n",
       "0              př      X    NaN  ...       1       1       0       1       0   \n",
       "1              př    NaN      X  ...       1       0       0       1       0   \n",
       "2             vkz    NaN      X  ...       1       1       1       0       0   \n",
       "3               -      X    NaN  ...       0       1       1       1       0   \n",
       "4               -    NaN      X  ...       1       1       0       1       1   \n",
       "\n",
       "  BODY  Pohlaví věk  ročník  Unnamed: 54  \n",
       "0   33        M  16       1          NaN  \n",
       "1   22        Ž  16       1          NaN  \n",
       "2   39        M  16       1          NaN  \n",
       "3   29        Ž  17       1          NaN  \n",
       "4   25        Ž  16       1          NaN  \n",
       "\n",
       "[5 rows x 55 columns]"
      ]
     },
     "execution_count": 4,
     "metadata": {},
     "output_type": "execute_result"
    }
   ],
   "source": [
    "data = pd.read_excel('Výsledky dotazníků.xlsx', sheet_name='body')\n",
    "data.head()"
   ]
  },
  {
   "cell_type": "code",
   "execution_count": 7,
   "metadata": {},
   "outputs": [],
   "source": [
    "# 1. chceme zjistit jestli zalezi na pohlavi podle poctu bodu - body na pohlavi\n",
    "# 2. existuje zavislost mezi sebehodnocenim znalosti (ot. c. 9) a body\n",
    "# 3. existuje zavislost mezi obor studia (povolani) a body"
   ]
  },
  {
   "cell_type": "code",
   "execution_count": 24,
   "metadata": {},
   "outputs": [
    {
     "data": {
      "text/plain": [
       "count     201\n",
       "unique      2\n",
       "top         a\n",
       "freq      164\n",
       "Name: č. 9, dtype: object"
      ]
     },
     "execution_count": 24,
     "metadata": {},
     "output_type": "execute_result"
    }
   ],
   "source": [
    "data['č. 9'].describe()"
   ]
  },
  {
   "cell_type": "code",
   "execution_count": 25,
   "metadata": {},
   "outputs": [
    {
     "data": {
      "text/plain": [
       "array(['n', 'a'], dtype=object)"
      ]
     },
     "execution_count": 25,
     "metadata": {},
     "output_type": "execute_result"
    }
   ],
   "source": [
    "data['č. 9'].unique()"
   ]
  },
  {
   "cell_type": "code",
   "execution_count": 38,
   "metadata": {},
   "outputs": [],
   "source": [
    "c = 'č. 9'\n",
    "data_c9_ano = data[data[c] == 'a']\n",
    "data_c9_ne = data[data[c] == 'n']\n",
    "\n",
    "c9_ano = data_c9_ano[c]\n",
    "c9_ne = data_c9_ne[c]\n",
    "\n",
    "c9_ano_body = data_c9_ano['BODY']\n",
    "c9_ne_body = data_c9_ne['BODY']"
   ]
  },
  {
   "cell_type": "code",
   "execution_count": 33,
   "metadata": {},
   "outputs": [
    {
     "data": {
      "image/png": "[encoded data removed]",
      "text/plain": [
       "<Figure size 432x288 with 1 Axes>"
      ]
     },
     "metadata": {},
     "output_type": "display_data"
    }
   ],
   "source": [
    "data[c].hist()\n",
    "plt.show()"
   ]
  },
  {
   "cell_type": "code",
   "execution_count": 39,
   "metadata": {},
   "outputs": [
    {
     "data": {
      "image/png": "[encoded data removed]",
      "text/plain": [
       "<Figure size 432x288 with 1 Axes>"
      ]
     },
     "metadata": {},
     "output_type": "display_data"
    }
   ],
   "source": [
    "c9_ano_body.hist()\n",
    "plt.show()"
   ]
  },
  {
   "cell_type": "code",
   "execution_count": 40,
   "metadata": {},
   "outputs": [
    {
     "data": {
      "image/png": "[encoded data removed]",
      "text/plain": [
       "<Figure size 432x288 with 1 Axes>"
      ]
     },
     "metadata": {},
     "output_type": "display_data"
    }
   ],
   "source": [
    "c9_ne_body.hist()\n",
    "plt.show()"
   ]
  },
  {
   "cell_type": "code",
   "execution_count": 44,
   "metadata": {},
   "outputs": [
    {
     "data": {
      "text/plain": [
       "34.146341463414636"
      ]
     },
     "metadata": {},
     "output_type": "display_data"
    },
    {
     "data": {
      "text/plain": [
       "32.027027027027025"
      ]
     },
     "metadata": {},
     "output_type": "display_data"
    }
   ],
   "source": [
    "display(c9_ano_body.mean(), c9_ne_body.mean())"
   ]
  },
  {
   "cell_type": "code",
   "execution_count": 43,
   "metadata": {},
   "outputs": [
    {
     "data": {
      "text/plain": [
       "Ttest_indResult(statistic=1.2354356668066182, pvalue=0.22129801284273207)"
      ]
     },
     "execution_count": 43,
     "metadata": {},
     "output_type": "execute_result"
    }
   ],
   "source": [
    "ttest_ind(c9_ano_body, c9_ne_body, equal_var=False)"
   ]
  }
 ],
 "metadata": {
  "kernelspec": {
   "display_name": "Python 3",
   "language": "python",
   "name": "python3"
  },
  "language_info": {
   "codemirror_mode": {
    "name": "ipython",
    "version": 3
   },
   "file_extension": ".py",
   "mimetype": "text/x-python",
   "name": "python",
   "nbconvert_exporter": "python",
   "pygments_lexer": "ipython3",
   "version": "3.7.4"
  }
 },
 "nbformat": 4,
 "nbformat_minor": 4
}
